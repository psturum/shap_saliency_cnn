{
  "cells": [
    {
      "cell_type": "markdown",
      "metadata": {
        "id": "i7j3OLmgUWzB"
      },
      "source": [
        "## Imports\n",
        "\n",
        "Begin by installing the shap library:\n",
        "\n"
      ]
    },
    {
      "cell_type": "code",
      "source": [
        "from google.colab import drive\n",
        "drive.mount('/content/drive')"
      ],
      "metadata": {
        "id": "icVcuU5A7-gA"
      },
      "execution_count": null,
      "outputs": []
    },
    {
      "cell_type": "code",
      "execution_count": null,
      "metadata": {
        "id": "N7Fzf05Amwpx"
      },
      "outputs": [],
      "source": [
        "!pip install shap"
      ]
    },
    {
      "cell_type": "code",
      "execution_count": null,
      "metadata": {
        "id": "K5BRI5W3mf5q"
      },
      "outputs": [],
      "source": [
        "import shap\n",
        "import numpy as np\n",
        "import tensorflow as tf\n",
        "from tensorflow import keras\n",
        "import matplotlib.pyplot as plt\n",
        "# Set a seed for reproducibility\n",
        "seed = 42\n",
        "np.random.seed(seed)\n",
        "tf.random.set_seed(seed)\n",
        "random_ = True"
      ]
    },
    {
      "cell_type": "code",
      "execution_count": null,
      "metadata": {
        "id": "6ap5dqFQmsDC"
      },
      "outputs": [],
      "source": [
        "# Download the dataset\n",
        "(x_train, y_train), (x_test, y_test) = keras.datasets.mnist.load_data()\n",
        "y_train_true, y_random_labels = y_train, np.random.permutation(y_train)\n",
        "# Reshape and normalize data\n",
        "x_train = x_train.reshape(60000, 28, 28, 1).astype(\"float32\") / 255\n",
        "x_test = x_test.reshape(10000, 28, 28, 1).astype(\"float32\") / 255"
      ]
    },
    {
      "cell_type": "code",
      "execution_count": null,
      "metadata": {
        "id": "SH7gEwiksWDE"
      },
      "outputs": [],
      "source": [
        "inputs = keras.Input(shape=(28, 28, 1))\n",
        "x = keras.layers.Conv2D(32, (3, 3), activation='relu')(inputs)\n",
        "x = keras.layers.MaxPooling2D((2, 2))(x)\n",
        "x = keras.layers.Conv2D(64, (3, 3), activation='relu')(x)\n",
        "x = keras.layers.MaxPooling2D((2, 2))(x)\n",
        "x = keras.layers.Flatten()(x)\n",
        "x = keras.layers.Dense(256, activation='relu')(x)\n",
        "outputs = keras.layers.Dense(10, activation='softmax')(x)\n",
        "\n",
        "# Create the model with the corresponding inputs and outputs\n",
        "model = keras.Model(inputs=inputs, outputs=outputs, name=\"CNN\")\n",
        "\n",
        "# Compile the model\n",
        "model.compile(\n",
        "      loss=tf.keras.losses.SparseCategoricalCrossentropy(),\n",
        "      optimizer=keras.optimizers.Adam(),\n",
        "      metrics=[tf.keras.metrics.SparseCategoricalAccuracy()]\n",
        "  )\n",
        "\n",
        "# Train it!\n",
        "if (random_):\n",
        "  history = model.fit(x_train, y_random_labels, epochs=100, validation_data=(x_test, y_test), batch_size=128)\n",
        "else:\n",
        "  history = model.fit(x_train, y_train_true, epochs=50, validation_data=(x_test, y_test), batch_size=128)"
      ]
    },
    {
      "cell_type": "code",
      "execution_count": null,
      "metadata": {
        "id": "hSqcehYVxSZY"
      },
      "outputs": [],
      "source": [
        "# Name each one of the classes\n",
        "class_names = ['0', '1', '2', '3', '4',\n",
        "               '5', '6', '7', '8', '9']\n",
        "\n",
        "# Save an example for each category in a dict\n",
        "images_dict = dict()\n",
        "for i, l in enumerate(y_random_labels):\n",
        "  if len(images_dict)==10:\n",
        "    break\n",
        "  if l not in images_dict.keys():\n",
        "    images_dict[l] = x_train[i].reshape((28, 28))\n",
        "\n",
        "# Function to plot images\n",
        "def plot_categories(images):\n",
        "  fig, axes = plt.subplots(1, 11, figsize=(16, 15))\n",
        "  axes = axes.flatten()\n",
        "\n",
        "  # Plot an empty canvas\n",
        "  ax = axes[0]\n",
        "  dummy_array = np.array([[[0, 0, 0, 0]]], dtype='uint8')\n",
        "  ax.set_title(\"reference\")\n",
        "  ax.set_axis_off()\n",
        "  ax.imshow(dummy_array, interpolation='nearest')\n",
        "\n",
        "  # Plot an image for every category\n",
        "  for k,v in images.items():\n",
        "    ax = axes[k+1]\n",
        "    ax.imshow(v, cmap=plt.cm.binary)\n",
        "    ax.set_title(f\"{class_names[k]}\")\n",
        "    ax.set_axis_off()\n",
        "\n",
        "  plt.tight_layout()\n",
        "  plt.show()\n",
        "\n",
        "\n",
        "# Use the function to plot\n",
        "plot_categories(images_dict)"
      ]
    },
    {
      "cell_type": "code",
      "execution_count": null,
      "metadata": {
        "id": "-fZZQnMWvjc6"
      },
      "outputs": [],
      "source": [
        "# Select 5000 random samples from x_test\n",
        "background = x_test[np.random.choice(x_test.shape[0], 5000, replace=False)]\n",
        "\n",
        "# Use DeepExplainer to explain predictions of the model\n",
        "e = shap.DeepExplainer(model, background)"
      ]
    },
    {
      "cell_type": "code",
      "source": [
        "# Save an example of each class from the test set\n",
        "x_test_dict = dict()\n",
        "for i, l in enumerate(y_test):\n",
        "  if len(x_test_dict)==10:\n",
        "    break\n",
        "  if l not in x_test_dict.keys():\n",
        "    x_test_dict[l] = x_test[i]\n",
        "\n",
        "# Convert to list preserving order of classes\n",
        "x_test_each_class = [x_test_dict[i] for i in sorted(x_test_dict)]\n",
        "\n",
        "# Convert to tensor\n",
        "x_test_each_class = np.asarray(x_test_each_class)\n",
        "\n",
        "# Print shape of tensor\n",
        "print(f\"x_test_each_class tensor has shape: {x_test_each_class.shape}\")"
      ],
      "metadata": {
        "id": "nh5PffSsDZ2j"
      },
      "execution_count": null,
      "outputs": []
    },
    {
      "cell_type": "code",
      "source": [
        "shap_values = e.shap_values(x_test_each_class)"
      ],
      "metadata": {
        "id": "Zg6iwTa5Dhff"
      },
      "execution_count": null,
      "outputs": []
    },
    {
      "cell_type": "code",
      "execution_count": null,
      "metadata": {
        "id": "0t1dWh7rv0ya"
      },
      "outputs": [],
      "source": [
        "# Plot reference column\n",
        "plot_categories(x_test_dict)\n",
        "\n",
        "# Print an empty line to separate the two plots\n",
        "print()\n",
        "\n",
        "# Plot shap values\n",
        "shap.image_plot(shap_values, -x_test_each_class)"
      ]
    },
    {
      "cell_type": "code",
      "source": [
        "import numpy as np\n",
        "import matplotlib.pyplot as plt\n",
        "import shap\n",
        "from PIL import Image\n",
        "\n",
        "# Assuming 'e' is your SHAP explainer and 'x_test_each_class' is your data\n",
        "\n",
        "# Create a list to store SHAP images for each digit\n",
        "shap_images = []\n",
        "\n",
        "# Loop through each digit and create SHAP images\n",
        "for i in range(10):\n",
        "    shap_values = e.shap_values(x_test_each_class[i].reshape(1, 28, 28, 1))\n",
        "\n",
        "    # Plot SHAP values\n",
        "    shap.image_plot(shap_values, -x_test_each_class[i].reshape(1, 28, 28, 1), show=False)\n",
        "\n",
        "    # Save the current plot as an image\n",
        "    image_path = f\"shap_image_digit_rand_{i}.png\"\n",
        "    plt.savefig(image_path)\n",
        "    plt.close()  # Close the plot\n",
        "\n",
        "    # Open the saved image and append to the list\n",
        "    shap_images.append(Image.open(image_path))\n",
        "\n",
        "# Concatenate the images vertically\n",
        "combined_image = np.concatenate(shap_images, axis=0)\n",
        "\n",
        "# Save the combined image\n",
        "combined_image_path = \"combined_shap_images_rand.png\"\n",
        "Image.fromarray(combined_image).save(combined_image_path)\n",
        "\n",
        "# Display the combined image\n",
        "plt.imshow(combined_image)\n",
        "plt.axis('off')\n",
        "plt.show()\n"
      ],
      "metadata": {
        "id": "uljcAU3p1avA"
      },
      "execution_count": null,
      "outputs": []
    },
    {
      "cell_type": "code",
      "source": [
        "import numpy as np\n",
        "\n",
        "# Assuming shap_values_list is a list of numpy arrays, each with shape (1, 28, 28, 1)\n",
        "shap_values_dict = {f'shap_value_{i}': arr.squeeze() for i, arr in enumerate(shap_values)}\n",
        "\n",
        "# Save the SHAP values\n",
        "if(random_):\n",
        "  np.savez('/content/drive/MyDrive/mnist_rand/shap_values_rand_mnist.npz', **shap_values_dict)\n",
        "else:\n",
        "  np.savez('/content/drive/MyDrive/mnist/shap_values_mnist.npz', **shap_values_dict)\n"
      ],
      "metadata": {
        "id": "RLnaiKHnI88q"
      },
      "execution_count": null,
      "outputs": []
    },
    {
      "cell_type": "code",
      "source": [
        "# Plot reference column\n",
        "plot_categories(x_test_dict)\n",
        "shap_values = e.shap_values(x_test_each_class[4].reshape(1, 28, 28, 1))\n",
        "shap.image_plot(shap_values, -x_test_each_class[4].reshape(1,28,28,1))"
      ],
      "metadata": {
        "id": "gKJqWs2RKYpW"
      },
      "execution_count": null,
      "outputs": []
    },
    {
      "cell_type": "code",
      "source": [
        "import numpy as np\n",
        "\n",
        "# Assuming shap_values_list is a list of numpy arrays, each with shape (1, 28, 28, 1)\n",
        "shap_values_dict_single_dress = {f'shap_value_{i}': arr.squeeze() for i, arr in enumerate(shap_values)}\n",
        "\n",
        "# Save the SHAP values\n",
        "if(random_):\n",
        "  np.savez('/content/drive/MyDrive/mnist_rand/shap_values_mnist_2.npz', **shap_values_dict_single_dress)\n",
        "else:\n",
        "  np.savez('/content/drive/MyDrive/mnist/shap_values_mnist_2.npz', **shap_values_dict_single_dress)"
      ],
      "metadata": {
        "id": "gkM-NIFuYNNq"
      },
      "execution_count": null,
      "outputs": []
    },
    {
      "cell_type": "code",
      "source": [
        "len(shap_values)"
      ],
      "metadata": {
        "id": "_s8Dh5xyLX6N"
      },
      "execution_count": null,
      "outputs": []
    },
    {
      "cell_type": "code",
      "source": [
        "shap_values[0].shape"
      ],
      "metadata": {
        "id": "PnYfBUz7KapP"
      },
      "execution_count": null,
      "outputs": []
    },
    {
      "cell_type": "code",
      "source": [
        "import matplotlib.pyplot as plt\n",
        "import numpy as np\n",
        "\n",
        "\n",
        "# Calculate the overall maximum and minimum values across all images\n",
        "max_intensity = np.max([np.max(np.abs(image.squeeze(axis=0))) for image in shap_values])\n",
        "min_intensity = -max_intensity\n",
        "\n",
        "# Create a grid of subplots\n",
        "fig, axes = plt.subplots(nrows=2, ncols=5, figsize=(10, 4))\n",
        "\n",
        "# Iterate through each image in shap_values and plot it\n",
        "for i, ax in enumerate(axes.flat):\n",
        "    # Extract the 3D array from the list\n",
        "    image = shap_values[i].squeeze(axis=0)  # Squeeze to remove the first dimension (1)\n",
        "\n",
        "    # Plot the image with a custom colormap\n",
        "    im = ax.imshow(image, cmap='RdBu_r', vmin=min_intensity, vmax=max_intensity)\n",
        "    ax.axis('off')  # Hide axis labels\n",
        "\n",
        "# Add a colorbar to show the correspondence between color and intensity\n",
        "cbar = fig.colorbar(im, ax=axes, orientation='vertical', fraction=0.03, pad=0.1)\n",
        "\n",
        "# Show the plot\n",
        "plt.show()\n"
      ],
      "metadata": {
        "id": "VcbOp1NfOKWa"
      },
      "execution_count": null,
      "outputs": []
    },
    {
      "cell_type": "code",
      "source": [
        "import matplotlib.pyplot as plt\n",
        "import numpy as np\n",
        "\n",
        "\n",
        "# Create a grid of subplots\n",
        "fig, axes = plt.subplots(nrows=2, ncols=5, figsize=(10, 4))\n",
        "\n",
        "# Iterate through each image in shap_values and plot it\n",
        "for i, ax in enumerate(axes.flat):\n",
        "    # Extract the 3D array from the list\n",
        "    image = shap_values[i].squeeze(axis=0)  # Squeeze to remove the first dimension (1)\n",
        "\n",
        "    # Calculate the maximum absolute intensity value for setting color scale\n",
        "    max_abs_intensity = np.max(np.abs(image))\n",
        "\n",
        "    # Plot the image with a custom colormap\n",
        "    im = ax.imshow(image, cmap='RdBu_r', vmin=-max_abs_intensity, vmax=max_abs_intensity)\n",
        "    ax.axis('off')  # Hide axis labels\n",
        "\n",
        "\n",
        "\n",
        "# Show the plot\n",
        "plt.show()\n"
      ],
      "metadata": {
        "id": "Cfi665lSIxV1"
      },
      "execution_count": null,
      "outputs": []
    },
    {
      "cell_type": "code",
      "source": [],
      "metadata": {
        "id": "Z-PcszcTl6fx"
      },
      "execution_count": null,
      "outputs": []
    },
    {
      "cell_type": "code",
      "source": [
        "import pickle\n",
        "\n",
        "\n",
        "if(random_):\n",
        "  # Save the entire model to a HDF5 file\n",
        "  model.save(\"/content/drive/MyDrive/mnist_rand/your_model.keras\")\n",
        "\n",
        "  # Save the history object to a file using pickle\n",
        "  with open(\"/content/drive/MyDrive/mnist_rand/training_history.pkl\", \"wb\") as file:\n",
        "      pickle.dump(history.history, file)\n",
        "else:\n",
        "  # Save the entire model to a HDF5 file\n",
        "  model.save(\"/content/drive/MyDrive/mnist/your_model.keras\")\n",
        "\n",
        "  # Save the history object to a file using pickle\n",
        "  with open(\"/content/drive/MyDrive/mnist/training_history.pkl\", \"wb\") as file:\n",
        "      pickle.dump(history.history, file)\n"
      ],
      "metadata": {
        "id": "ZOEcirp8RXRB"
      },
      "execution_count": null,
      "outputs": []
    },
    {
      "cell_type": "code",
      "source": [
        "for elem in shap_values:\n",
        "  print(elem.shape)"
      ],
      "metadata": {
        "id": "OqFPrgoBi9fb"
      },
      "execution_count": null,
      "outputs": []
    },
    {
      "cell_type": "code",
      "source": [
        "# Select a specific digit, let's say digit 5\n",
        "digit_to_analyze = 4\n",
        "iteration_ = 500\n",
        "acc = 0\n",
        "# Save an example of each class from the test set\n",
        "x_test_dict = dict()\n",
        "for i, label in enumerate(y_test):\n",
        "    if (label == digit_to_analyze and acc < iteration_):\n",
        "      acc += 1\n",
        "      x_test_dict.setdefault(label, []).append(x_test[i])\n",
        "\n",
        "# Convert to list preserving order of classes\n",
        "x_test_digit = [item for sublist in x_test_dict.values() for item in sublist]\n",
        "\n",
        "# Convert to tensor\n",
        "x_test_digit = np.asarray(x_test_each_class)\n",
        "\n",
        "# Print shape of tensor\n",
        "print(f\"x_test_each_class tensor has shape: {x_test_digit.shape}\")"
      ],
      "metadata": {
        "id": "rMGD2reelfF-"
      },
      "execution_count": null,
      "outputs": []
    },
    {
      "cell_type": "code",
      "source": [
        "# Calculate SHAP values for the selected digit\n",
        "\n",
        "\n",
        "shap_arrays = []\n",
        "for i in range (iteration_):\n",
        "  shap_values = e.shap_values(x_test_each_class[i].reshape(1,28,28,1), check_additivity=False)\n",
        "  shap_arrays += [shap_values[digit_to_analyze]]"
      ],
      "metadata": {
        "id": "EEx4h2mZqOk0"
      },
      "execution_count": null,
      "outputs": []
    },
    {
      "cell_type": "code",
      "source": [
        "import numpy as np\n",
        "import matplotlib.pyplot as plt\n",
        "\n",
        "# Assuming 'shap_arrays' is your list of numpy arrays\n",
        "# Calculate the mean of the arrays along the first axis (axis=0)\n",
        "mean_shap_array = np.mean(shap_arrays, axis=0)\n",
        "print(mean_shap_array.shape)\n",
        "# Squeeze the singleton dimensions to get an array of shape (28, 28)\n",
        "mean_shap_array = mean_shap_array.squeeze()\n",
        "\n",
        "# Plot the mean image with a custom colormap\n",
        "plt.imshow(mean_shap_array, cmap='RdBu_r', vmin=-np.max(np.abs(mean_shap_array)), vmax=np.max(np.abs(mean_shap_array)))\n",
        "plt.title('Mean of Shap Arrays')\n",
        "plt.colorbar()  # Add a colorbar to show the correspondence between color and intensity\n",
        "plt.axis('off')  # Hide axis labels\n",
        "plt.show()\n"
      ],
      "metadata": {
        "id": "NNZFPTEUpqmJ"
      },
      "execution_count": null,
      "outputs": []
    },
    {
      "cell_type": "code",
      "source": [
        "import numpy as np\n",
        "import matplotlib.pyplot as plt\n",
        "\n",
        "# Assuming 'shap_arrays' is your list of numpy arrays\n",
        "# Calculate the mean of the arrays along the first axis (axis=0)\n",
        "mean_shap_array = np.mean(x_test_digit[:500], axis=0)\n",
        "print(mean_shap_array.shape)\n",
        "# Squeeze the singleton dimensions to get an array of shape (28, 28)\n",
        "mean_shap_array = mean_shap_array.squeeze()\n",
        "\n",
        "# Plot the mean image with a custom colormap\n",
        "plt.imshow(mean_shap_array)\n",
        "plt.title('Mean - digit 4')\n",
        "plt.colorbar()  # Add a colorbar to show the correspondence between color and intensity\n",
        "plt.axis('off')  # Hide axis labels\n",
        "plt.show()\n"
      ],
      "metadata": {
        "id": "ptrUB3Axwkat"
      },
      "execution_count": null,
      "outputs": []
    }
  ],
  "metadata": {
    "colab": {
      "provenance": [],
      "machine_shape": "hm",
      "gpuType": "A100"
    },
    "kernelspec": {
      "display_name": "Python 3",
      "name": "python3"
    },
    "language_info": {
      "codemirror_mode": {
        "name": "ipython",
        "version": 3
      },
      "file_extension": ".py",
      "mimetype": "text/x-python",
      "name": "python",
      "nbconvert_exporter": "python",
      "pygments_lexer": "ipython3",
      "version": "3.7.3"
    },
    "accelerator": "GPU"
  },
  "nbformat": 4,
  "nbformat_minor": 0
}