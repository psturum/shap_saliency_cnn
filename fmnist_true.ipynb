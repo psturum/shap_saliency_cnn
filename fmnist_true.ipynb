{
  "cells": [
    {
      "cell_type": "markdown",
      "metadata": {
        "id": "i7j3OLmgUWzB"
      },
      "source": [
        "## Imports\n",
        "\n",
        "Begin by installing the shap library:\n",
        "\n"
      ]
    },
    {
      "cell_type": "code",
      "source": [
        "from google.colab import drive\n",
        "drive.mount('/content/drive')"
      ],
      "metadata": {
        "id": "icVcuU5A7-gA"
      },
      "execution_count": null,
      "outputs": []
    },
    {
      "cell_type": "code",
      "execution_count": null,
      "metadata": {
        "id": "N7Fzf05Amwpx"
      },
      "outputs": [],
      "source": [
        "!pip install shap"
      ]
    },
    {
      "cell_type": "markdown",
      "metadata": {
        "id": "9SnFiuF_V0MY"
      },
      "source": [
        "Now import all necessary dependencies:"
      ]
    },
    {
      "cell_type": "code",
      "execution_count": null,
      "metadata": {
        "id": "K5BRI5W3mf5q"
      },
      "outputs": [],
      "source": [
        "import shap\n",
        "import numpy as np\n",
        "import tensorflow as tf\n",
        "from tensorflow import keras\n",
        "import matplotlib.pyplot as plt\n",
        "# Set a seed for reproducibility\n",
        "seed = 42\n",
        "tf.random.set_seed(seed)"
      ]
    },
    {
      "cell_type": "markdown",
      "metadata": {
        "id": "0fZHtO_oWh3_"
      },
      "source": [
        "## Train a CNN model"
      ]
    },
    {
      "cell_type": "markdown",
      "metadata": {
        "id": "hIB4uc1qhgc9"
      },
      "source": [
        "For this lab you will use the [fashion MNIST](https://keras.io/api/datasets/fashion_mnist/) dataset. Load it and pre-process the data before feeding it into the model:\n"
      ]
    },
    {
      "cell_type": "code",
      "execution_count": null,
      "metadata": {
        "id": "6ap5dqFQmsDC"
      },
      "outputs": [],
      "source": [
        "# Download the dataset\n",
        "(x_train, y_train), (x_test, y_test) = keras.datasets.fashion_mnist.load_data()\n",
        "y_train_true, y_random_labels = y_train, np.random.permutation(y_train)\n",
        "# Reshape and normalize data\n",
        "x_train = x_train.reshape(60000, 28, 28, 1).astype(\"float32\") / 255\n",
        "x_test = x_test.reshape(10000, 28, 28, 1).astype(\"float32\") / 255\n",
        "random_ = False"
      ]
    },
    {
      "cell_type": "code",
      "execution_count": null,
      "metadata": {
        "id": "SH7gEwiksWDE"
      },
      "outputs": [],
      "source": [
        "inputs = keras.Input(shape=(28, 28, 1))\n",
        "x = keras.layers.Conv2D(32, (3, 3), activation='relu')(inputs)\n",
        "x = keras.layers.MaxPooling2D((2, 2))(x)\n",
        "x = keras.layers.Conv2D(64, (3, 3), activation='relu')(x)\n",
        "x = keras.layers.MaxPooling2D((2, 2))(x)\n",
        "x = keras.layers.Flatten()(x)\n",
        "x = keras.layers.Dense(256, activation='relu')(x)\n",
        "outputs = keras.layers.Dense(10, activation='softmax')(x)\n",
        "\n",
        "# Create the model with the corresponding inputs and outputs\n",
        "model = keras.Model(inputs=inputs, outputs=outputs, name=\"CNN\")\n",
        "\n",
        "# Compile the model\n",
        "model.compile(\n",
        "      loss=tf.keras.losses.SparseCategoricalCrossentropy(),\n",
        "      optimizer=keras.optimizers.Adam(),\n",
        "      metrics=[tf.keras.metrics.SparseCategoricalAccuracy()]\n",
        "  )\n",
        "if(random_):\n",
        "  # Train it!\n",
        "  history = model.fit(x_train, y_random_labels, epochs=100, validation_data=(x_test, y_test), batch_size=128)\n",
        "else:\n",
        "  history = model.fit(x_train, y_train_true, epochs=50, validation_data=(x_test, y_test), batch_size=128)"
      ]
    },
    {
      "cell_type": "code",
      "execution_count": null,
      "metadata": {
        "id": "hSqcehYVxSZY"
      },
      "outputs": [],
      "source": [
        "# Name each one of the classes\n",
        "class_names = ['T-shirt/top', 'Trouser', 'Pullover', 'Dress', 'Coat',\n",
        "               'Sandal', 'Shirt', 'Sneaker', 'Bag', 'Ankle boot']\n",
        "\n",
        "# Save an example for each category in a dict\n",
        "images_dict = dict()\n",
        "for i in range(len(y_train_true)):\n",
        "    label = y_train_true[i]\n",
        "    if label not in images_dict:\n",
        "        images_dict[label] = x_train[i].reshape((28, 28))\n",
        "\n",
        "# Function to plot images\n",
        "def plot_categories(images):\n",
        "    fig, axes = plt.subplots(1, 11, figsize=(16, 15))\n",
        "    axes = axes.flatten()\n",
        "\n",
        "    # Plot an empty canvas\n",
        "    ax = axes[0]\n",
        "    dummy_array = np.array([[[0, 0, 0, 0]]], dtype='uint8')\n",
        "    ax.set_title(\"reference\")\n",
        "    ax.set_axis_off()\n",
        "    ax.imshow(dummy_array, interpolation='nearest')\n",
        "\n",
        "    # Plot an image for every category\n",
        "    for k, v in sorted(images.items()):\n",
        "        ax = axes[k+1]\n",
        "        ax.imshow(v, cmap=plt.cm.binary)\n",
        "        ax.set_title(f\"{class_names[k]}\")\n",
        "        ax.set_axis_off()\n",
        "\n",
        "    plt.tight_layout()\n",
        "    plt.show()\n",
        "\n",
        "# Use the function to plot\n",
        "plot_categories(images_dict)"
      ]
    },
    {
      "cell_type": "code",
      "execution_count": null,
      "metadata": {
        "id": "-fZZQnMWvjc6"
      },
      "outputs": [],
      "source": [
        "# Select 5000 random samples from x_test\n",
        "background = x_test[np.random.choice(x_test.shape[0], 1500, replace=False)]\n",
        "\n",
        "# Use DeepExplainer to explain predictions of the model\n",
        "e = shap.DeepExplainer(model, background)"
      ]
    },
    {
      "cell_type": "code",
      "source": [
        "# Save an example of each class from the test set\n",
        "x_test_dict = dict()\n",
        "for i, l in enumerate(y_test):\n",
        "  if len(x_test_dict)==10:\n",
        "    break\n",
        "  if l not in x_test_dict.keys():\n",
        "    x_test_dict[l] = x_test[i]\n",
        "\n",
        "# Convert to list preserving order of classes\n",
        "x_test_each_class = [x_test_dict[i] for i in sorted(x_test_dict)]\n",
        "\n",
        "# Convert to tensor\n",
        "x_test_each_class = np.asarray(x_test_each_class)\n",
        "\n",
        "# Print shape of tensor\n",
        "print(f\"x_test_each_class tensor has shape: {x_test_each_class.shape}\")"
      ],
      "metadata": {
        "id": "nh5PffSsDZ2j"
      },
      "execution_count": null,
      "outputs": []
    },
    {
      "cell_type": "code",
      "source": [
        "# Compute predictions\n",
        "predictions = model.predict(x_test_each_class)\n",
        "\n",
        "# Apply argmax to get predicted class\n",
        "np.argmax(predictions, axis=1)"
      ],
      "metadata": {
        "id": "zgSD3qC3Dctv"
      },
      "execution_count": null,
      "outputs": []
    },
    {
      "cell_type": "code",
      "source": [
        "shap_values = e.shap_values(x_test_each_class)"
      ],
      "metadata": {
        "id": "Zg6iwTa5Dhff"
      },
      "execution_count": null,
      "outputs": []
    },
    {
      "cell_type": "code",
      "execution_count": null,
      "metadata": {
        "id": "0t1dWh7rv0ya"
      },
      "outputs": [],
      "source": [
        "# Plot reference column\n",
        "plot_categories(images_dict)\n",
        "\n",
        "# Print an empty line to separate the two plots\n",
        "print()\n",
        "\n",
        "# Plot shap values\n",
        "shap.image_plot(shap_values, -x_test_each_class)"
      ]
    },
    {
      "cell_type": "code",
      "source": [
        "import numpy as np\n",
        "if(random_):\n",
        "  # Assuming shap_values_list is a list of numpy arrays, each with shape (1, 28, 28, 1)\n",
        "  shap_values_dict = {f'shap_value_{i}': arr.squeeze() for i, arr in enumerate(shap_values)}\n",
        "\n",
        "  # Save the SHAP values\n",
        "  np.savez('/content/drive/MyDrive/fmnist_rand/shap_values_true_fmnist.npz', **shap_values_dict)\n",
        "else:\n",
        "    # Assuming shap_values_list is a list of numpy arrays, each with shape (1, 28, 28, 1)\n",
        "  shap_values_dict = {f'shap_value_{i}': arr.squeeze() for i, arr in enumerate(shap_values)}\n",
        "\n",
        "  # Save the SHAP values\n",
        "  np.savez('/content/drive/MyDrive/fmnist/shap_values_true_fmnist.npz', **shap_values_dict)\n"
      ],
      "metadata": {
        "id": "RLnaiKHnI88q"
      },
      "execution_count": null,
      "outputs": []
    },
    {
      "cell_type": "code",
      "source": [
        "test_images = x_test_each_class[0]\n",
        "test_images.shape"
      ],
      "metadata": {
        "id": "9BDcqfSiInU5"
      },
      "execution_count": null,
      "outputs": []
    },
    {
      "cell_type": "code",
      "source": [
        "x_test[0].shape"
      ],
      "metadata": {
        "id": "G3cF3xy-I0v1"
      },
      "execution_count": null,
      "outputs": []
    },
    {
      "cell_type": "code",
      "source": [
        "test_image = x_test_each_class[0].reshape(1, 28, 28, 1)\n",
        "\n",
        "\n",
        "e = shap.DeepExplainer(model, background)\n",
        "shap_values = e.shap_values(test_image)"
      ],
      "metadata": {
        "id": "OL2SG084KCQI"
      },
      "execution_count": null,
      "outputs": []
    },
    {
      "cell_type": "code",
      "source": [
        "test_image.shape"
      ],
      "metadata": {
        "id": "8dPgQ7dTKvbX"
      },
      "execution_count": null,
      "outputs": []
    },
    {
      "cell_type": "code",
      "source": [
        "# Plot reference column\n",
        "plot_categories(images_dict)\n",
        "shap.image_plot(shap_values, test_image.reshape(1,28,28,1))"
      ],
      "metadata": {
        "id": "gKJqWs2RKYpW"
      },
      "execution_count": null,
      "outputs": []
    },
    {
      "cell_type": "code",
      "source": [
        "import numpy as np\n",
        "\n",
        "if(random_):\n",
        "  # Assuming shap_values_list is a list of numpy arrays, each with shape (1, 28, 28, 1)\n",
        "  shap_values_dict_single_dress = {f'shap_value_{i}': arr.squeeze() for i, arr in enumerate(shap_values)}\n",
        "\n",
        "  # Save the SHAP values\n",
        "  np.savez('/content/drive/MyDrive/fmnist_rand/shap_values_rand_fmnist_single_tshirt.npz', **shap_values_dict_single_dress)\n",
        "else:\n",
        "  # Assuming shap_values_list is a list of numpy arrays, each with shape (1, 28, 28, 1)\n",
        "  shap_values_dict_single_dress = {f'shap_value_{i}': arr.squeeze() for i, arr in enumerate(shap_values)}\n",
        "\n",
        "  # Save the SHAP values\n",
        "  np.savez('/content/drive/MyDrive/fmnist/shap_values_fmnist_single_tshirt.npz', **shap_values_dict_single_dress)\n",
        "\n"
      ],
      "metadata": {
        "id": "gkM-NIFuYNNq"
      },
      "execution_count": null,
      "outputs": []
    },
    {
      "cell_type": "code",
      "source": [
        "len(shap_values)"
      ],
      "metadata": {
        "id": "_s8Dh5xyLX6N"
      },
      "execution_count": null,
      "outputs": []
    },
    {
      "cell_type": "code",
      "source": [
        "shap_values[0].shape"
      ],
      "metadata": {
        "id": "PnYfBUz7KapP"
      },
      "execution_count": null,
      "outputs": []
    },
    {
      "cell_type": "code",
      "source": [
        "import matplotlib.pyplot as plt\n",
        "import numpy as np\n",
        "\n",
        "\n",
        "# Calculate the overall maximum and minimum values across all images\n",
        "max_intensity = np.max([np.max(np.abs(image.squeeze(axis=0))) for image in shap_values])\n",
        "min_intensity = -max_intensity\n",
        "\n",
        "# Create a grid of subplots\n",
        "fig, axes = plt.subplots(nrows=2, ncols=5, figsize=(10, 4))\n",
        "\n",
        "# Iterate through each image in shap_values and plot it\n",
        "for i, ax in enumerate(axes.flat):\n",
        "    # Extract the 3D array from the list\n",
        "    image = shap_values[i].squeeze(axis=0)  # Squeeze to remove the first dimension (1)\n",
        "\n",
        "    # Plot the image with a custom colormap\n",
        "    im = ax.imshow(image, cmap='RdBu_r', vmin=min_intensity+0.02, vmax=max_intensity-0.02)\n",
        "    ax.axis('off')  # Hide axis labels\n",
        "\n",
        "# Add a colorbar to show the correspondence between color and intensity\n",
        "cbar = fig.colorbar(im, ax=axes, orientation='vertical', fraction=0.03, pad=0.1)\n",
        "\n",
        "# Show the plot\n",
        "plt.show()\n"
      ],
      "metadata": {
        "id": "VcbOp1NfOKWa"
      },
      "execution_count": null,
      "outputs": []
    },
    {
      "cell_type": "code",
      "source": [
        "import matplotlib.pyplot as plt\n",
        "import numpy as np\n",
        "\n",
        "\n",
        "# Create a grid of subplots\n",
        "fig, axes = plt.subplots(nrows=2, ncols=5, figsize=(10, 4))\n",
        "\n",
        "# Iterate through each image in shap_values and plot it\n",
        "for i, ax in enumerate(axes.flat):\n",
        "    # Extract the 3D array from the list\n",
        "    image = shap_values[i].squeeze(axis=0)  # Squeeze to remove the first dimension (1)\n",
        "\n",
        "    # Calculate the maximum absolute intensity value for setting color scale\n",
        "    max_abs_intensity = np.max(np.abs(image))\n",
        "\n",
        "    # Plot the image with a custom colormap\n",
        "    im = ax.imshow(image, cmap='RdBu_r', vmin=-max_abs_intensity, vmax=max_abs_intensity)\n",
        "    ax.axis('off')  # Hide axis labels\n",
        "\n",
        "# Add a colorbar to show the correspondence between color and intensity\n",
        "cbar = fig.colorbar(im, ax=axes, orientation='vertical', fraction=0.03, pad=0.1)\n",
        "\n",
        "# Show the plot\n",
        "plt.show()\n"
      ],
      "metadata": {
        "id": "Cfi665lSIxV1"
      },
      "execution_count": null,
      "outputs": []
    },
    {
      "cell_type": "code",
      "source": [
        "import pickle\n",
        "\n",
        "if(random_):\n",
        "  # Save the entire model to a HDF5 file\n",
        "  model.save(\"/content/drive/MyDrive/fmnist_rand/your_model.keras\")\n",
        "\n",
        "  # Save the history object to a file using pickle\n",
        "  with open(\"/content/drive/MyDrive/fmnist_rand/training_history.pkl\", \"wb\") as file:\n",
        "      pickle.dump(history.history, file)\n",
        "else:\n",
        "  # Save the entire model to a HDF5 file\n",
        "  model.save(\"/content/drive/MyDrive/fmnist/your_model.keras\")\n",
        "\n",
        "  # Save the history object to a file using pickle\n",
        "  with open(\"/content/drive/MyDrive/fmnist/training_history.pkl\", \"wb\") as file:\n",
        "      pickle.dump(history.history, file)\n"
      ],
      "metadata": {
        "id": "ZOEcirp8RXRB"
      },
      "execution_count": null,
      "outputs": []
    },
    {
      "cell_type": "code",
      "source": [
        "!pip install visualkeras"
      ],
      "metadata": {
        "id": "nv3bjBFHVv7z"
      },
      "execution_count": null,
      "outputs": []
    },
    {
      "cell_type": "code",
      "source": [
        "import visualkeras\n",
        "\n",
        "visualkeras.layered_view(model, legend = True)"
      ],
      "metadata": {
        "id": "U0pKv5VcVylU"
      },
      "execution_count": null,
      "outputs": []
    },
    {
      "cell_type": "code",
      "source": [
        "model.summary()"
      ],
      "metadata": {
        "id": "ECcN8WWoWRPp"
      },
      "execution_count": null,
      "outputs": []
    }
  ],
  "metadata": {
    "colab": {
      "provenance": [],
      "machine_shape": "hm",
      "gpuType": "T4"
    },
    "kernelspec": {
      "display_name": "Python 3",
      "name": "python3"
    },
    "language_info": {
      "codemirror_mode": {
        "name": "ipython",
        "version": 3
      },
      "file_extension": ".py",
      "mimetype": "text/x-python",
      "name": "python",
      "nbconvert_exporter": "python",
      "pygments_lexer": "ipython3",
      "version": "3.7.3"
    },
    "accelerator": "GPU"
  },
  "nbformat": 4,
  "nbformat_minor": 0
}